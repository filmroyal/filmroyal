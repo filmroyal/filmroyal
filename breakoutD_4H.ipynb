{
  "cells": [
    {
      "cell_type": "markdown",
      "metadata": {
        "id": "view-in-github",
        "colab_type": "text"
      },
      "source": [
        "<a href=\"https://colab.research.google.com/github/filmroyal/filmroyal/blob/main/breakoutD_4H.ipynb\" target=\"_parent\"><img src=\"https://colab.research.google.com/assets/colab-badge.svg\" alt=\"Open In Colab\"/></a>"
      ]
    },
    {
      "cell_type": "code",
      "execution_count": null,
      "metadata": {
        "id": "cfWmktU4Ra1h"
      },
      "outputs": [],
      "source": [
        "# Gerekli kütüphaneleri yükleyin\n",
        "!pip install git+https://github.com/rongardF/tvdatafeed tradingview-screener matplotlib openpyxl\n",
        "!pip install ta\n",
        "\n",
        "import pandas as pd\n",
        "import numpy as np\n",
        "from tvDatafeed import TvDatafeed, Interval\n",
        "from tradingview_screener import get_all_symbols\n",
        "import warnings\n",
        "import matplotlib.pyplot as plt\n",
        "\n",
        "warnings.simplefilter(action='ignore', category=FutureWarning)\n",
        "\n",
        "def breakout_strategy(data, period=20):\n",
        "    df = data.copy()\n",
        "    df['High_Max'] = df['High'].rolling(window=period).max()\n",
        "    df['Low_Min'] = df['Low'].rolling(window=period).min()\n",
        "    df['Breakout_Up'] = df['Close'] > df['High_Max'].shift(1)\n",
        "    df['Breakout_Down'] = df['Close'] < df['Low_Min'].shift(1)\n",
        "    return df\n",
        "\n",
        "tv = TvDatafeed()\n",
        "Hisseler = get_all_symbols(market='turkey')\n",
        "Hisseler = [symbol.replace('BIST:', '') for symbol in Hisseler]\n",
        "Hisseler = sorted(Hisseler)\n",
        "\n",
        "intervals = [Interval.in_4_hour, Interval.in_daily]\n",
        "\n",
        "df_breakout_up = pd.DataFrame(columns=['Hisse Adı', 'Son Fiyat', 'Breakout Türü', 'Zaman Dilimi'])\n",
        "df_breakout_down = pd.DataFrame(columns=['Hisse Adı', 'Son Fiyat', 'Breakout Türü', 'Zaman Dilimi'])\n",
        "\n",
        "for interval in intervals:\n",
        "    for i in range(0, len(Hisseler)):\n",
        "        try:\n",
        "            data = tv.get_hist(symbol=Hisseler[i], exchange='BIST', interval=interval, n_bars=500)\n",
        "            data.rename(columns={'open': 'Open', 'high': 'High', 'low': 'Low', 'close': 'Close', 'volume': 'Volume'}, inplace=True)\n",
        "            data = data.reset_index()\n",
        "            breakout_data = breakout_strategy(data, period=20)\n",
        "            breakout_data['datetime'] = pd.to_datetime(breakout_data['datetime'])\n",
        "            breakout_data.set_index('datetime', inplace=True)\n",
        "            last_signal = breakout_data.iloc[-1]\n",
        "            Breakout_Up = last_signal['Breakout_Up']\n",
        "            Breakout_Down = last_signal['Breakout_Down']\n",
        "            Last_Price = last_signal['Close']\n",
        "            if Breakout_Up:\n",
        "                df_breakout_up.loc[len(df_breakout_up)] = [Hisseler[i], Last_Price, 'Breakout Yukarı', interval.name]\n",
        "            elif Breakout_Down:\n",
        "                df_breakout_down.loc[len(df_breakout_down)] = [Hisseler[i], Last_Price, 'Breakout Aşağı', interval.name]\n",
        "        except Exception as e:\n",
        "            print(f\"Error processing {Hisseler[i]}: {e}\")\n",
        "        print(f\"Processing {Hisseler[i]}: {'Breakout Yukarı' if Breakout_Up else 'Breakout Aşağı' if Breakout_Down else 'No Signal'}\")\n",
        "\n",
        "# Breakout Yukarı ve Aşağı sinyallerini tek bir tabloya ekleyelim\n",
        "df_all_signals = pd.concat([df_breakout_up, df_breakout_down]).reset_index(drop=True)\n",
        "\n",
        "# Ekranda tablo olarak gösterme\n",
        "print(\"Breakout Yukarı Sinyalleri:\")\n",
        "print(df_breakout_up)\n",
        "print(\"\\nBreakout Aşağı Sinyalleri:\")\n",
        "print(df_breakout_down)\n",
        "\n",
        "# Excel dosyasına kaydetme\n",
        "excel_file = 'breakout_signals.xlsx'\n",
        "with pd.ExcelWriter(excel_file) as writer:\n",
        "    df_breakout_up.to_excel(writer, sheet_name='Breakout Yukarı', index=False)\n",
        "    df_breakout_down.to_excel(writer, sheet_name='Breakout Aşağı', index=False)\n",
        "    df_all_signals.to_excel(writer, sheet_name='Tüm Sinyaller', index=False)\n",
        "\n",
        "print(f\"\\nBreakout yukarı ve aşağı sinyalleri '{excel_file}' dosyasına kaydedildi.\")\n"
      ]
    }
  ],
  "metadata": {
    "colab": {
      "provenance": [],
      "include_colab_link": true
    },
    "kernelspec": {
      "display_name": "Python 3",
      "name": "python3"
    },
    "language_info": {
      "name": "python"
    }
  },
  "nbformat": 4,
  "nbformat_minor": 0
}